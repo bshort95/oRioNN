{
  "nbformat": 4,
  "nbformat_minor": 0,
  "metadata": {
    "colab": {
      "provenance": []
    },
    "kernelspec": {
      "name": "python3",
      "display_name": "Python 3"
    },
    "language_info": {
      "name": "python"
    }
  },
  "cells": [
    {
      "cell_type": "code",
      "execution_count": null,
      "metadata": {
        "id": "tglf0Gr2SuOs"
      },
      "outputs": [],
      "source": [
        "import tensorflow as tf\n",
        "import time as tp\n",
        "import keras\n",
        "from keras.models import load_model\n",
        "import pandas as pd\n",
        "import numpy as py\n",
        "import os\n",
        "\n",
        "def textGen (model_location):\n",
        "\n",
        "  one_step_reloaded = tf.saved_model.load(model_location)\n",
        "\n",
        "  list_comments = []\n",
        " \n",
        "  while len(list_comments) < 6:\n",
        "    states = None\n",
        "    next_char = tf.constant(['S'])\n",
        "    result = [next_char]\n",
        "  \n",
        "    for n in range(200):\n",
        "      next_char, states = one_step_reloaded.generate_one_step(next_char, states=states)\n",
        "      result.append(next_char)\n",
        " \n",
        "    result = tf.strings.join(result)\n",
        "    output = result[0].numpy().decode('utf-8'), '\\n\\n' + '_'*80 \n",
        "    bob = \" \".join(output)\n",
        "    bob = bob.replace('[UNK]',\"\")\n",
        "    list_comments.append(bob)\n",
        "\n",
        "    fs = open('comments.txt', 'w')\n",
        " \n",
        "  for n in list_comments:\n",
        "    fs.write(n)\n",
        " \n",
        "  fs.close()\n",
        "  eddited_list = \"\"\n",
        "  for n in open('comments.txt','r'):\n",
        "      temp = n.strip()\n",
        "      temp2 = temp.split(\"STOP\")\n",
        "      \n",
        "      if len(temp2) > 2:\n",
        "          for n in temp2[1:-1]:\n",
        "              eddited_list.append(n) \n",
        " \n",
        "  fn = open(\"editted_comments.txt\",\"w\")\n",
        " \n",
        "  for b in eddited_list:\n",
        "      fn.write(b + \"\\n\")\n",
        " \n",
        "  fn.close()"
      ]
    }
  ]
}