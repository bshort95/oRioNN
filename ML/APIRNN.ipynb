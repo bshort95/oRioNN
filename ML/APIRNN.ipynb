{
  "nbformat": 4,
  "nbformat_minor": 0,
  "metadata": {
    "colab": {
      "provenance": []
    },
    "kernelspec": {
      "name": "python3",
      "display_name": "Python 3"
    },
    "language_info": {
      "name": "python"
    }
  },
  "cells": [
    {
      "cell_type": "code",
      "execution_count": 8,
      "metadata": {
        "id": "o-gwc9KZsT7r"
      },
      "outputs": [],
      "source": [
        "from flask import Flask\n",
        "from flask_restful import Resource, Api, reqparse\n",
        "import keras\n",
        "from keras.models import load_model\n",
        "import pandas as pd\n",
        "import numpy as py\n",
        "import os\n",
        "import ast\n",
        "import tensorflow as tf\n",
        "import time as tp"
      ]
    },
    {
      "cell_type": "code",
      "source": [
        "model_location = 'place model directory'\n",
        "one_step_reloaded = tf.saved_model.load(model_location)"
      ],
      "metadata": {
        "id": "IL8DhJILtBky"
      },
      "execution_count": 9,
      "outputs": []
    },
    {
      "cell_type": "code",
      "source": [
        "list_comments = []\n",
        " \n",
        "while len(list_comments) < 6:\n",
        "  states = None\n",
        "  next_char = tf.constant(['S'])\n",
        "  result = [next_char]\n",
        "  \n",
        "  for n in range(200):\n",
        "    next_char, states = one_step_reloaded.generate_one_step(next_char, states=states)\n",
        "    result.append(next_char)\n",
        " \n",
        "  result = tf.strings.join(result)\n",
        "  output = result[0].numpy().decode('utf-8'), '\\n\\n' + '_'*80 \n",
        "  bob = \" \".join(output)\n",
        "  bob = bob.replace('[UNK]',\"\")\n",
        "  list_comments.append(bob)"
      ],
      "metadata": {
        "id": "IShOVJ_psYx4"
      },
      "execution_count": 20,
      "outputs": []
    },
    {
      "cell_type": "code",
      "source": [
        "fs = open('/content/bad_comments.txt', 'w')\n",
        " \n",
        "for n in list_comments:\n",
        "  fs.write(n)\n",
        " \n",
        "fs.close()"
      ],
      "metadata": {
        "id": "jPqhrtXCszHG"
      },
      "execution_count": 21,
      "outputs": []
    },
    {
      "cell_type": "code",
      "source": [
        "app = Flask(__name__)\n",
        "api = Api(app)"
      ],
      "metadata": {
        "id": "GrbWlzYd1Q3w"
      },
      "execution_count": 12,
      "outputs": []
    },
    {
      "cell_type": "code",
      "source": [
        "class Users(Resource):\n",
        "    def get(self):\n",
        "        data = pd.read_csv('bad_comments.txt')  # read CSV\n",
        "        data = data.to_dict()  # convert dataframe to dictionary\n",
        "        return {'data': data}, 200  # return data and 200 OK code"
      ],
      "metadata": {
        "id": "MUid9263052_"
      },
      "execution_count": 19,
      "outputs": []
    },
    {
      "cell_type": "code",
      "source": [
        "api.add_resource(Users, '/users')  # '/users' is our entry point for Users"
      ],
      "metadata": {
        "id": "QiRkE6By1KE1"
      },
      "execution_count": 14,
      "outputs": []
    },
    {
      "cell_type": "code",
      "source": [
        "if __name__ == '__main__':\n",
        "    app.run()  # run our Flask app"
      ],
      "metadata": {
        "colab": {
          "base_uri": "https://localhost:8080/"
        },
        "id": "u2OGvKow1Zey",
        "outputId": "e3e1b673-47d9-4a55-fad0-0a009e3a18af"
      },
      "execution_count": 17,
      "outputs": [
        {
          "output_type": "stream",
          "name": "stdout",
          "text": [
            " * Serving Flask app \"__main__\" (lazy loading)\n",
            " * Environment: production\n",
            "\u001b[31m   WARNING: This is a development server. Do not use it in a production deployment.\u001b[0m\n",
            "\u001b[2m   Use a production WSGI server instead.\u001b[0m\n",
            " * Debug mode: off\n"
          ]
        },
        {
          "output_type": "stream",
          "name": "stderr",
          "text": [
            "INFO:werkzeug: * Running on http://0.0.0.0:5000/ (Press CTRL+C to quit)\n"
          ]
        }
      ]
    }
  ]
}